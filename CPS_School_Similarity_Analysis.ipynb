{
 "cells": [
  {
   "cell_type": "markdown",
   "metadata": {},
   "source": [
    "# Similarity Measures using Linear Algebra\n",
    "\n",
    "Example applying linear algebra to calculate similarity between entities. Here, we'll use the [Chicago Public Schools School Profile data for 2017-2018](https://data.cityofchicago.org/Education/Chicago-Public-Schools-School-Profile-Information-/w4qj-h7bg). \n",
    "\n",
    "Using these data, we can try to determine which high schools are most similar to each other on a set of different variables."
   ]
  },
  {
   "cell_type": "code",
   "execution_count": 30,
   "metadata": {},
   "outputs": [],
   "source": [
    "import pandas as pd\n",
    "\n",
    "df = pd.read_csv('cps_profiles_public_1718.csv')\n",
    "\n",
    "cols = ['Long_Name', 'Student_Count_Total', 'Student_Count_Low_Income',\n",
    "        'Student_Count_English_Learners', 'Student_Count_Special_Ed',\n",
    "        'Student_Count_White', 'Student_Count_Black', 'Student_Count_Hispanic',\n",
    "        'College_Enrollment_Rate_School']\n",
    "\n",
    "df = (df.loc[df['Primary_Category'] == 'HS', cols]\n",
    "      .dropna('index'))\n"
   ]
  },
  {
   "cell_type": "markdown",
   "metadata": {},
   "source": [
    "This dataset has information about each CPS school. We'll focus on looking at a smaller subset of pertinent variables to compare CPS high school similarity on. These variables were chosen based on both non-sparseness of the data as well as \n",
    "\n",
    "* Student_Count_Total\n",
    "* Student_Count_Low_Income\n",
    "* Student_Count_English_Learners\n",
    "* Student_Count_Special_Ed\n",
    "* Student_Count_White\n",
    "* Student_Count_Black\n",
    "* Student_Count_Hispanic\n",
    "* College_Enrollment_Rate_School"
   ]
  },
  {
   "cell_type": "code",
   "execution_count": 31,
   "metadata": {},
   "outputs": [
    {
     "name": "stdout",
     "output_type": "stream",
     "text": [
      "<class 'pandas.core.frame.DataFrame'>\n",
      "Int64Index: 161 entries, 2 to 657\n",
      "Data columns (total 9 columns):\n",
      "Long_Name                         161 non-null object\n",
      "Student_Count_Total               161 non-null int64\n",
      "Student_Count_Low_Income          161 non-null int64\n",
      "Student_Count_English_Learners    161 non-null int64\n",
      "Student_Count_Special_Ed          161 non-null int64\n",
      "Student_Count_White               161 non-null int64\n",
      "Student_Count_Black               161 non-null int64\n",
      "Student_Count_Hispanic            161 non-null int64\n",
      "College_Enrollment_Rate_School    161 non-null float64\n",
      "dtypes: float64(1), int64(7), object(1)\n",
      "memory usage: 12.6+ KB\n"
     ]
    }
   ],
   "source": [
    "df.info()"
   ]
  },
  {
   "cell_type": "code",
   "execution_count": null,
   "metadata": {},
   "outputs": [],
   "source": []
  }
 ],
 "metadata": {
  "kernelspec": {
   "display_name": "Python 3",
   "language": "python",
   "name": "python3"
  },
  "language_info": {
   "codemirror_mode": {
    "name": "ipython",
    "version": 3
   },
   "file_extension": ".py",
   "mimetype": "text/x-python",
   "name": "python",
   "nbconvert_exporter": "python",
   "pygments_lexer": "ipython3",
   "version": "3.6.5"
  }
 },
 "nbformat": 4,
 "nbformat_minor": 2
}
