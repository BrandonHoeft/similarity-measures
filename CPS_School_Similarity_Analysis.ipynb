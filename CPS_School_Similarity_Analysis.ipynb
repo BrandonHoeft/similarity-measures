{
 "cells": [
  {
   "cell_type": "markdown",
   "metadata": {},
   "source": [
    "# Linear Algebra: Cosine Similarity of CPS High School Demographics\n",
    "\n",
    "Example applying linear algebra to calculate similarity between entities. Here, we'll use the [Chicago Public Schools School Profile data for 2017-2018](https://data.cityofchicago.org/Education/Chicago-Public-Schools-School-Profile-Information-/w4qj-h7bg). \n",
    "\n",
    "Using these data, we can try to determine which high schools are most similar to each other on a set of different deomgraphic variables published by the City of Chicago recently."
   ]
  },
  {
   "cell_type": "code",
   "execution_count": 357,
   "metadata": {},
   "outputs": [],
   "source": [
    "import numpy as np\n",
    "import pandas as pd\n",
    "\n",
    "df = pd.read_csv('cps_profiles_public_1718.csv')\n",
    "\n",
    "cols = ['Long_Name', 'Student_Count_Total', 'Student_Count_Low_Income',\n",
    "        'Student_Count_English_Learners', 'Student_Count_Special_Ed',\n",
    "        'Student_Count_White', 'Student_Count_Black', 'Student_Count_Hispanic',\n",
    "        'College_Enrollment_Rate_School']\n",
    "\n",
    "cps_df = (df.loc[df['Primary_Category'] == 'HS', cols]\n",
    "          .dropna(0)\n",
    "          .set_index('Long_Name'))\n"
   ]
  },
  {
   "cell_type": "markdown",
   "metadata": {},
   "source": [
    "This dataset has information about each CPS school. We'll focus on looking at a smaller subset of pertinent variables to compare CPS high school similarity on. These variables largely reflect demographic characteristics about students at these schools.\n",
    "\n",
    "* Student_Count_Total\n",
    "* Student_Count_Low_Income\n",
    "* Student_Count_English_Learners\n",
    "* Student_Count_Special_Ed\n",
    "* Student_Count_White\n",
    "* Student_Count_Black\n",
    "* Student_Count_Hispanic\n",
    "* College_Enrollment_Rate_School"
   ]
  },
  {
   "cell_type": "code",
   "execution_count": 358,
   "metadata": {},
   "outputs": [
    {
     "name": "stdout",
     "output_type": "stream",
     "text": [
      "<class 'pandas.core.frame.DataFrame'>\n",
      "Index: 161 entries, TEAM Englewood Community Academy High School to Hyman G Rickover Naval Academy High School\n",
      "Data columns (total 8 columns):\n",
      "Student_Count_Total               161 non-null int64\n",
      "Student_Count_Low_Income          161 non-null int64\n",
      "Student_Count_English_Learners    161 non-null int64\n",
      "Student_Count_Special_Ed          161 non-null int64\n",
      "Student_Count_White               161 non-null int64\n",
      "Student_Count_Black               161 non-null int64\n",
      "Student_Count_Hispanic            161 non-null int64\n",
      "College_Enrollment_Rate_School    161 non-null float64\n",
      "dtypes: float64(1), int64(7)\n",
      "memory usage: 11.3+ KB\n"
     ]
    }
   ],
   "source": [
    "cps_df.info()"
   ]
  },
  {
   "cell_type": "markdown",
   "metadata": {},
   "source": [
    "## Algorithm Goals\n",
    "\n",
    "I will write a cosine similarity algorithm. Given 2 vectors of n-dimensions, it will compute the cosine of t he angle between each vector, returning the top N most similar vectors pointing in the closest direction to the original vector. Since we're working in positive space where no elements of any vector are < 0,  the cosine will be [0,1] bound. Cosine = 0 is a perpendicular n-dimensional angle representing maximum independence between vectors. Cosine = 1 means a 0 degree angle representing an identical orientation or direction of the compared vectors. Cosine will only assess directional relationships, and disregards magnitudes. In other words, we're measuring resemblances and not absolute distances between data points. \n",
    "\n",
    "Cosine similarity is useful in situations where you are concerned more about how closely the direction of two vectors move instead of their closeness/distance from each other in space.\n",
    "\n",
    "This metric also works well on sparse vectors where 0's or missing information may be present. \n",
    "\n",
    "If [distance/magnitudes between vectors is primarily important](https://www.quora.com/Is-cosine-similarity-effective), then a measure like Euclidean distance calculation may be more appropriate.  "
   ]
  },
  {
   "cell_type": "markdown",
   "metadata": {},
   "source": [
    "## How to Solve it?\n",
    "\n",
    "1. write a function cos_similarity(v1, v2)\n",
    "    * v1 is an N-dimensional vector\n",
    "    * v2 is also an N-dimensional  vector to be compared to v1.\n",
    "\n",
    "\n",
    "2. write a function to iterate `cos_similarity()` for each vector to be compared to every other vector, `cos_top_n()`:\n",
    "    * calculate the cosine similarity of v1 to each other vector than itself.\n",
    "    * track v1's cosine similarity to all other vectors and the index of all other vectors.\n",
    "    * create dict pairs of index: cosine similarity for the Top N similar vectors to v1\n",
    "    * repeat loop over next vectors, v2 ... v1000\n",
    "\n",
    "\n",
    "3. capture the output as a dictionary"
   ]
  },
  {
   "cell_type": "code",
   "execution_count": 359,
   "metadata": {},
   "outputs": [],
   "source": [
    "# way to write this using only base Python.\n",
    "def cos_similarity(v1, v2):\n",
    "    \"\"\"for 2 non-null vectors, v1 and v2, measure their cosine similarity\n",
    "    which is the ratio of their dot products to their length products.\n",
    "    \n",
    "    (v1 dot v2) / (||v1||*||v2||)\n",
    "    \n",
    "    notes:\n",
    "      v1 dot v2 = sum(v1 * v2)\n",
    "         ||v1|| = sqrt(v1 * v1)\n",
    "         ||v2|| = sqrt(v2 * v2)\n",
    "   \"\"\"\n",
    "    \n",
    "    dot_product, v1_length_sq, v2_length_sq = 0, 0, 0\n",
    "    \n",
    "    for element in range(len(v1)):\n",
    "        dot_product += v1[element] * v2[element]\n",
    "        # get the squared vector length of each v1, v2.\n",
    "        v1_length_sq += v1[element] * v1[element]\n",
    "        v2_length_sq += v2[element] * v2[element] \n",
    "    \n",
    "    length_product = (v1_length_sq ** (1/2)) * (v2_length_sq ** (1/2))\n",
    "    \n",
    "    return dot_product / length_product\n",
    "\n",
    "\n",
    "\n",
    "# Alternate way to write this using numpy vectorized arrays.\n",
    "def cos_similarity_np(v1, v2):\n",
    "    \"\"\"vectorized cosine similarity calculation\"\"\"\n",
    "    \n",
    "    return np.dot(v1, v2) / np.sqrt(np.dot(v1, v1) * np.dot(v2, v2))"
   ]
  },
  {
   "cell_type": "markdown",
   "metadata": {},
   "source": [
    "### Let's check our work so far. . .\n",
    "To see if this works correctly, let's compare our `cos_similarity()` function to a prebuilt one by other libraries..."
   ]
  },
  {
   "cell_type": "code",
   "execution_count": 360,
   "metadata": {},
   "outputs": [
    {
     "data": {
      "text/plain": [
       "[[2, 7, 9, 5, 6],\n",
       " [1, 7, 1, 6, 7],\n",
       " [5, 8, 8, 8, 6],\n",
       " [2, 8, 6, 1, 8],\n",
       " [0, 6, 6, 4, 1],\n",
       " [5, 8, 7, 1, 4],\n",
       " [9, 2, 5, 5, 4],\n",
       " [3, 2, 9, 2, 2],\n",
       " [0, 9, 7, 5, 9],\n",
       " [0, 6, 6, 3, 1]]"
      ]
     },
     "execution_count": 360,
     "metadata": {},
     "output_type": "execute_result"
    }
   ],
   "source": [
    "# generate some fake data\n",
    "rows = 10\n",
    "cols = 5\n",
    "df = pd.DataFrame(np.matrix(np.random.randint(0,10, size=(rows, cols))),\n",
    "                 index = ['exam' + str(i) for i in range(1,11)],\n",
    "                 columns = ['rule' + str(i) for i in range(1,6)]) \n",
    "d1 = df.to_dict('split')\n",
    "d1['data']\n"
   ]
  },
  {
   "cell_type": "markdown",
   "metadata": {},
   "source": [
    "Let's compare the similarity of the first vector to the last vector using our `cos_similarity()` function."
   ]
  },
  {
   "cell_type": "code",
   "execution_count": 361,
   "metadata": {},
   "outputs": [
    {
     "data": {
      "text/plain": [
       "0.9252554031053316"
      ]
     },
     "execution_count": 361,
     "metadata": {},
     "output_type": "execute_result"
    }
   ],
   "source": [
    "cos_similarity(d1['data'][0], d1['data'][-1])\n"
   ]
  },
  {
   "cell_type": "markdown",
   "metadata": {},
   "source": [
    "Let's compare this using the `numpy` based function we created, `cos_similarity_np()`."
   ]
  },
  {
   "cell_type": "code",
   "execution_count": 362,
   "metadata": {},
   "outputs": [
    {
     "data": {
      "text/plain": [
       "0.9252554031053316"
      ]
     },
     "execution_count": 362,
     "metadata": {},
     "output_type": "execute_result"
    }
   ],
   "source": [
    "cos_similarity2(d1['data'][0], d1['data'][-1])"
   ]
  },
  {
   "cell_type": "markdown",
   "metadata": {},
   "source": [
    "How does this compare to `sklearn`'s `cosine_similarity()` function? Also the same. "
   ]
  },
  {
   "cell_type": "code",
   "execution_count": 363,
   "metadata": {},
   "outputs": [
    {
     "data": {
      "text/plain": [
       "array([[0.9252554]])"
      ]
     },
     "execution_count": 363,
     "metadata": {},
     "output_type": "execute_result"
    }
   ],
   "source": [
    "from sklearn.metrics.pairwise import cosine_similarity\n",
    "cosine_similarity([d1['data'][0]], [d1['data'][-1]])"
   ]
  },
  {
   "cell_type": "markdown",
   "metadata": {},
   "source": [
    "### We're on the right track\n",
    "\n",
    "Now let's take our `cos_similarity()` function, that can compare the similarity of any 2 N-dimensions vectors, and iterate those comparisons to complete steps **#2** and **#3** in our roadmap above. We'll do this with a wrapper function called `cos_top_n()` that is built around `cos_similarity()`."
   ]
  },
  {
   "cell_type": "code",
   "execution_count": 364,
   "metadata": {},
   "outputs": [],
   "source": [
    "def cos_top_n(df, most_similar=5):\n",
    "    \"\"\"For each row in a dataframe (df), calculate the cosine similarity of all\n",
    "    other rows against this row. Then return the top 5 most similar row vectors\n",
    "    as a name:value pair. This ASSUMES ALL df columns are vector elements worth\n",
    "    comparing and the df's index is a meaningful observation label worth tracking.\"\"\"\n",
    "    \n",
    "    df_parsed = df.to_dict('split')\n",
    "    data = df_parsed['data']\n",
    "    index = df_parsed['index']\n",
    "    \n",
    "    results_dict = {}\n",
    "    \n",
    "    for v in range(len(data)):\n",
    "            comps = {}\n",
    "            \n",
    "            for comp_v in range(len(data)):\n",
    "                if v == comp_v:\n",
    "                    continue # skip self-comparison.\n",
    "                else:\n",
    "                    comps[index[comp_v]] = round(cos_similarity_np(data[v], data[comp_v]), 4)\n",
    "            \n",
    "            # after v is compared to all other v's, identify N most similar vectors\n",
    "            # captured as a list of tuples. https://bit.ly/2EYsfge\n",
    "            results_dict[index[v]] = str(dict(sorted(comps.items(), # key:val tuple pairs\n",
    "                                            key=lambda d: d[1], # sort by val\n",
    "                                            reverse=True)[:most_similar]))\n",
    "            \n",
    "    return results_dict\n"
   ]
  },
  {
   "cell_type": "markdown",
   "metadata": {},
   "source": [
    "## Let's run the similarity analysis"
   ]
  },
  {
   "cell_type": "code",
   "execution_count": 365,
   "metadata": {},
   "outputs": [],
   "source": [
    "cps_similarity = cos_top_n(cps_df, 5)"
   ]
  },
  {
   "cell_type": "markdown",
   "metadata": {},
   "source": [
    "Grab a particular school to view their top 5 most similar CPS high schools. For Instituto Health Sciences Career Academy, it's interesting to note that their top similar match is another Instituto organization school, since all the variables being compared reflect only demographic, summary information. The similarity is likely very high as Instituto tends to serve lower income, latinx communities."
   ]
  },
  {
   "cell_type": "code",
   "execution_count": 366,
   "metadata": {},
   "outputs": [
    {
     "data": {
      "text/plain": [
       "\"{'Instituto - Justice Lozano': 0.9989, 'ASPIRA Charter School - Early College High School': 0.998, 'World Language Academy High School': 0.9979, 'YCCS-ASPIRA,Antonia Pantoja Alternative HS': 0.9978, 'Gurdon S Hubbard High School': 0.9965}\""
      ]
     },
     "execution_count": 366,
     "metadata": {},
     "output_type": "execute_result"
    }
   ],
   "source": [
    "cps_similarity['Instituto Health Sciences Career Academy']"
   ]
  },
  {
   "cell_type": "markdown",
   "metadata": {},
   "source": [
    "The raw data associated with the top 5 matching schools of our particular school of interest. You'll see that some of the most similar schools have drastically different absolute frequencies. This is because *cosine similarity* is a measure of directionality of the vector elements. The distances between the vectors are not weighted. \n",
    "\n",
    "So we could say that these are schools with similar makeup to each other in terms of demography, all though they may differ in characteristics reflecting magnitude or size like student population count. What type of similarity you use is very domain dependent!"
   ]
  },
  {
   "cell_type": "code",
   "execution_count": 367,
   "metadata": {},
   "outputs": [
    {
     "data": {
      "text/html": [
       "<div>\n",
       "<style scoped>\n",
       "    .dataframe tbody tr th:only-of-type {\n",
       "        vertical-align: middle;\n",
       "    }\n",
       "\n",
       "    .dataframe tbody tr th {\n",
       "        vertical-align: top;\n",
       "    }\n",
       "\n",
       "    .dataframe thead th {\n",
       "        text-align: right;\n",
       "    }\n",
       "</style>\n",
       "<table border=\"1\" class=\"dataframe\">\n",
       "  <thead>\n",
       "    <tr style=\"text-align: right;\">\n",
       "      <th></th>\n",
       "      <th>Student_Count_Total</th>\n",
       "      <th>Student_Count_Low_Income</th>\n",
       "      <th>Student_Count_English_Learners</th>\n",
       "      <th>Student_Count_Special_Ed</th>\n",
       "      <th>Student_Count_White</th>\n",
       "      <th>Student_Count_Black</th>\n",
       "      <th>Student_Count_Hispanic</th>\n",
       "      <th>College_Enrollment_Rate_School</th>\n",
       "    </tr>\n",
       "    <tr>\n",
       "      <th>Long_Name</th>\n",
       "      <th></th>\n",
       "      <th></th>\n",
       "      <th></th>\n",
       "      <th></th>\n",
       "      <th></th>\n",
       "      <th></th>\n",
       "      <th></th>\n",
       "      <th></th>\n",
       "    </tr>\n",
       "  </thead>\n",
       "  <tbody>\n",
       "    <tr>\n",
       "      <th>Instituto Health Sciences Career Academy</th>\n",
       "      <td>745</td>\n",
       "      <td>693</td>\n",
       "      <td>213</td>\n",
       "      <td>146</td>\n",
       "      <td>2</td>\n",
       "      <td>14</td>\n",
       "      <td>726</td>\n",
       "      <td>60.4</td>\n",
       "    </tr>\n",
       "    <tr>\n",
       "      <th>Instituto - Justice Lozano</th>\n",
       "      <td>89</td>\n",
       "      <td>85</td>\n",
       "      <td>21</td>\n",
       "      <td>13</td>\n",
       "      <td>1</td>\n",
       "      <td>0</td>\n",
       "      <td>87</td>\n",
       "      <td>9.1</td>\n",
       "    </tr>\n",
       "    <tr>\n",
       "      <th>ASPIRA Charter School - Early College High School</th>\n",
       "      <td>340</td>\n",
       "      <td>316</td>\n",
       "      <td>108</td>\n",
       "      <td>86</td>\n",
       "      <td>5</td>\n",
       "      <td>7</td>\n",
       "      <td>323</td>\n",
       "      <td>55.3</td>\n",
       "    </tr>\n",
       "    <tr>\n",
       "      <th>World Language Academy High School</th>\n",
       "      <td>355</td>\n",
       "      <td>333</td>\n",
       "      <td>103</td>\n",
       "      <td>52</td>\n",
       "      <td>3</td>\n",
       "      <td>17</td>\n",
       "      <td>330</td>\n",
       "      <td>58.4</td>\n",
       "    </tr>\n",
       "    <tr>\n",
       "      <th>YCCS-ASPIRA,Antonia Pantoja Alternative HS</th>\n",
       "      <td>152</td>\n",
       "      <td>122</td>\n",
       "      <td>36</td>\n",
       "      <td>30</td>\n",
       "      <td>3</td>\n",
       "      <td>5</td>\n",
       "      <td>142</td>\n",
       "      <td>15.7</td>\n",
       "    </tr>\n",
       "    <tr>\n",
       "      <th>Gurdon S Hubbard High School</th>\n",
       "      <td>1705</td>\n",
       "      <td>1463</td>\n",
       "      <td>297</td>\n",
       "      <td>253</td>\n",
       "      <td>31</td>\n",
       "      <td>112</td>\n",
       "      <td>1547</td>\n",
       "      <td>57.4</td>\n",
       "    </tr>\n",
       "  </tbody>\n",
       "</table>\n",
       "</div>"
      ],
      "text/plain": [
       "                                                   Student_Count_Total  \\\n",
       "Long_Name                                                                \n",
       "Instituto Health Sciences Career Academy                           745   \n",
       "Instituto - Justice Lozano                                          89   \n",
       "ASPIRA Charter School - Early College High School                  340   \n",
       "World Language Academy High School                                 355   \n",
       "YCCS-ASPIRA,Antonia Pantoja Alternative HS                         152   \n",
       "Gurdon S Hubbard High School                                      1705   \n",
       "\n",
       "                                                   Student_Count_Low_Income  \\\n",
       "Long_Name                                                                     \n",
       "Instituto Health Sciences Career Academy                                693   \n",
       "Instituto - Justice Lozano                                               85   \n",
       "ASPIRA Charter School - Early College High School                       316   \n",
       "World Language Academy High School                                      333   \n",
       "YCCS-ASPIRA,Antonia Pantoja Alternative HS                              122   \n",
       "Gurdon S Hubbard High School                                           1463   \n",
       "\n",
       "                                                   Student_Count_English_Learners  \\\n",
       "Long_Name                                                                           \n",
       "Instituto Health Sciences Career Academy                                      213   \n",
       "Instituto - Justice Lozano                                                     21   \n",
       "ASPIRA Charter School - Early College High School                             108   \n",
       "World Language Academy High School                                            103   \n",
       "YCCS-ASPIRA,Antonia Pantoja Alternative HS                                     36   \n",
       "Gurdon S Hubbard High School                                                  297   \n",
       "\n",
       "                                                   Student_Count_Special_Ed  \\\n",
       "Long_Name                                                                     \n",
       "Instituto Health Sciences Career Academy                                146   \n",
       "Instituto - Justice Lozano                                               13   \n",
       "ASPIRA Charter School - Early College High School                        86   \n",
       "World Language Academy High School                                       52   \n",
       "YCCS-ASPIRA,Antonia Pantoja Alternative HS                               30   \n",
       "Gurdon S Hubbard High School                                            253   \n",
       "\n",
       "                                                   Student_Count_White  \\\n",
       "Long_Name                                                                \n",
       "Instituto Health Sciences Career Academy                             2   \n",
       "Instituto - Justice Lozano                                           1   \n",
       "ASPIRA Charter School - Early College High School                    5   \n",
       "World Language Academy High School                                   3   \n",
       "YCCS-ASPIRA,Antonia Pantoja Alternative HS                           3   \n",
       "Gurdon S Hubbard High School                                        31   \n",
       "\n",
       "                                                   Student_Count_Black  \\\n",
       "Long_Name                                                                \n",
       "Instituto Health Sciences Career Academy                            14   \n",
       "Instituto - Justice Lozano                                           0   \n",
       "ASPIRA Charter School - Early College High School                    7   \n",
       "World Language Academy High School                                  17   \n",
       "YCCS-ASPIRA,Antonia Pantoja Alternative HS                           5   \n",
       "Gurdon S Hubbard High School                                       112   \n",
       "\n",
       "                                                   Student_Count_Hispanic  \\\n",
       "Long_Name                                                                   \n",
       "Instituto Health Sciences Career Academy                              726   \n",
       "Instituto - Justice Lozano                                             87   \n",
       "ASPIRA Charter School - Early College High School                     323   \n",
       "World Language Academy High School                                    330   \n",
       "YCCS-ASPIRA,Antonia Pantoja Alternative HS                            142   \n",
       "Gurdon S Hubbard High School                                         1547   \n",
       "\n",
       "                                                   College_Enrollment_Rate_School  \n",
       "Long_Name                                                                          \n",
       "Instituto Health Sciences Career Academy                                     60.4  \n",
       "Instituto - Justice Lozano                                                    9.1  \n",
       "ASPIRA Charter School - Early College High School                            55.3  \n",
       "World Language Academy High School                                           58.4  \n",
       "YCCS-ASPIRA,Antonia Pantoja Alternative HS                                   15.7  \n",
       "Gurdon S Hubbard High School                                                 57.4  "
      ]
     },
     "execution_count": 367,
     "metadata": {},
     "output_type": "execute_result"
    }
   ],
   "source": [
    "cps_df.loc[['Instituto Health Sciences Career Academy',\n",
    "            'Instituto - Justice Lozano',\n",
    "            'ASPIRA Charter School - Early College High School',\n",
    "            'World Language Academy High School',\n",
    "            'YCCS-ASPIRA,Antonia Pantoja Alternative HS',\n",
    "            'Gurdon S Hubbard High School']]"
   ]
  },
  {
   "cell_type": "markdown",
   "metadata": {},
   "source": [
    "# Add the similar schools JSON string as a new dataframe column"
   ]
  },
  {
   "cell_type": "code",
   "execution_count": 368,
   "metadata": {},
   "outputs": [],
   "source": [
    "similarity_df = pd.DataFrame.from_dict(cps_similarity, \n",
    "                                       orient='index', \n",
    "                                       columns=['similar_schools'])\n",
    "\n",
    "assert similarity_df.shape[0] == cps_df.shape[0] # check row counts same"
   ]
  },
  {
   "cell_type": "markdown",
   "metadata": {},
   "source": [
    "Join the similarity output from *similarity_df* to the original *cps_df* as a new column. Let's take a look at another school, Lane Tech. "
   ]
  },
  {
   "cell_type": "code",
   "execution_count": 369,
   "metadata": {},
   "outputs": [
    {
     "data": {
      "text/plain": [
       "Student_Count_Total                                                            4514\n",
       "Student_Count_Low_Income                                                       1806\n",
       "Student_Count_English_Learners                                                   34\n",
       "Student_Count_Special_Ed                                                        200\n",
       "Student_Count_White                                                            1598\n",
       "Student_Count_Black                                                             350\n",
       "Student_Count_Hispanic                                                         1805\n",
       "College_Enrollment_Rate_School                                                 86.9\n",
       "similar_schools                   {'William Jones College Preparatory High Schoo...\n",
       "Name: Albert G Lane Technical High School, dtype: object"
      ]
     },
     "execution_count": 369,
     "metadata": {},
     "output_type": "execute_result"
    }
   ],
   "source": [
    "cps_df_updated = pd.merge(cps_df, similarity_df, left_index=True, right_index=True, how='inner')\n",
    "cps_df_updated.loc['Albert G Lane Technical High School']"
   ]
  },
  {
   "cell_type": "code",
   "execution_count": 370,
   "metadata": {},
   "outputs": [
    {
     "data": {
      "text/plain": [
       "\"{'Lincoln Park High School': 0.9981, 'William Jones College Preparatory High School': 0.9929, 'Northside College Preparatory High School': 0.9925, 'Albert G Lane Technical High School': 0.9881, 'Chicago High School for the Arts (ChiArts)': 0.9855}\""
      ]
     },
     "execution_count": 370,
     "metadata": {},
     "output_type": "execute_result"
    }
   ],
   "source": [
    "cps_df_updated.loc['Whitney M Young Magnet High School', 'similar_schools']"
   ]
  }
 ],
 "metadata": {
  "kernelspec": {
   "display_name": "Python 3",
   "language": "python",
   "name": "python3"
  },
  "language_info": {
   "codemirror_mode": {
    "name": "ipython",
    "version": 3
   },
   "file_extension": ".py",
   "mimetype": "text/x-python",
   "name": "python",
   "nbconvert_exporter": "python",
   "pygments_lexer": "ipython3",
   "version": "3.6.5"
  }
 },
 "nbformat": 4,
 "nbformat_minor": 2
}
